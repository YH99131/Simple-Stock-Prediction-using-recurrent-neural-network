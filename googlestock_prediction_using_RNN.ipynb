{
  "nbformat": 4,
  "nbformat_minor": 0,
  "metadata": {
    "colab": {
      "name": "googlestock_prediction_using_RNN.ipynb",
      "provenance": []
    },
    "kernelspec": {
      "name": "python3",
      "display_name": "Python 3"
    },
    "language_info": {
      "name": "python"
    },
    "accelerator": "GPU"
  },
  "cells": [
    {
      "cell_type": "code",
      "metadata": {
        "id": "jYnPgxjgJ3YO"
      },
      "source": [
        "import numpy as np\n",
        "import matplotlib.pyplot as plt\n",
        "import pandas as pd"
      ],
      "execution_count": null,
      "outputs": []
    },
    {
      "cell_type": "markdown",
      "metadata": {
        "id": "NDx2GC0Qlgyj"
      },
      "source": [
        "The data can be downloaded through here:\n",
        "https://www.kaggle.com/medharawat/google-stock-price"
      ]
    },
    {
      "cell_type": "code",
      "metadata": {
        "id": "9_z_G40fJ9Ei"
      },
      "source": [
        "dataset_train = pd.read_csv('/content/drive/MyDrive/timeseriesmachinelearning/realstudies/realstudies1/Google_Stock_Price_Train.csv')\n",
        "training_set = dataset_train.iloc[:, 1:2].values"
      ],
      "execution_count": null,
      "outputs": []
    },
    {
      "cell_type": "code",
      "metadata": {
        "id": "JlfKYa9XJ-kA"
      },
      "source": [
        "from sklearn.preprocessing import MinMaxScaler\n",
        "sc = MinMaxScaler(feature_range = (0, 1))\n",
        "training_set_scaled = sc.fit_transform(training_set)"
      ],
      "execution_count": null,
      "outputs": []
    },
    {
      "cell_type": "markdown",
      "metadata": {
        "id": "yAeR74WEKAIJ"
      },
      "source": [
        "\n",
        "Now, we create a data structure with 60 timesteps and one output as an Array of x_train and y_train."
      ]
    },
    {
      "cell_type": "code",
      "metadata": {
        "id": "1IfY4r6mKDlp"
      },
      "source": [
        "##Now, we create a data structure with 60 timesteps and one output as an Array of x_train and y_train.\n",
        "##width(whereby each of them can cover 60 as width)\n",
        "X_train = []\n",
        "y_train = []\n",
        "for i in range(60, 1258):\n",
        "    X_train.append(training_set_scaled[i-60:i, 0])\n",
        "    y_train.append(training_set_scaled[i, 0])\n",
        "X_train, y_train = np.array(X_train), np.array(y_train)"
      ],
      "execution_count": null,
      "outputs": []
    },
    {
      "cell_type": "markdown",
      "metadata": {
        "id": "fB0iPp-1KJ6Q"
      },
      "source": [
        "Here we have done reshaping of x_train data."
      ]
    },
    {
      "cell_type": "code",
      "metadata": {
        "id": "ZmJaL17_KMHp"
      },
      "source": [
        "X_train = np.reshape(X_train, (X_train.shape[0], X_train.shape[1], 1))"
      ],
      "execution_count": null,
      "outputs": []
    },
    {
      "cell_type": "markdown",
      "metadata": {
        "id": "n4QKuZBhKPAq"
      },
      "source": [
        "Now, the following libraries are required for building the RNN model and perform its operations. We have imported the Keras library and its packages."
      ]
    },
    {
      "cell_type": "code",
      "metadata": {
        "colab": {
          "base_uri": "https://localhost:8080/"
        },
        "id": "CgRJSWK3OJ3l",
        "outputId": "906dd1e7-0127-4e66-f482-e96c30d71798"
      },
      "source": [
        "import tensorflow as tf\n",
        "import numpy as np\n",
        "import matplotlib.pyplot as plt\n",
        "print(tf.__version__)"
      ],
      "execution_count": null,
      "outputs": [
        {
          "output_type": "stream",
          "text": [
            "2.5.0\n"
          ],
          "name": "stdout"
        }
      ]
    },
    {
      "cell_type": "code",
      "metadata": {
        "id": "SLqUx1ZEPZGU"
      },
      "source": [
        "import keras"
      ],
      "execution_count": null,
      "outputs": []
    },
    {
      "cell_type": "markdown",
      "metadata": {
        "id": "6PkV1YOxKQ6C"
      },
      "source": [
        "Let’s initialize our RNN."
      ]
    },
    {
      "cell_type": "code",
      "metadata": {
        "id": "YtIzmPOEPPRj"
      },
      "source": [
        "model = keras.Sequential()"
      ],
      "execution_count": null,
      "outputs": []
    },
    {
      "cell_type": "markdown",
      "metadata": {
        "id": "7QUNc3iPlMt6"
      },
      "source": [
        "Add two SimpleRNNlayer with one dense layer. To fully utilise the keras abritary expression, lamda is integrated in this prediction model."
      ]
    },
    {
      "cell_type": "code",
      "metadata": {
        "id": "PYw8AQYoPwKQ"
      },
      "source": [
        "model = tf.keras.models.Sequential([\n",
        "  tf.keras.layers.Lambda(lambda x: tf.expand_dims(x, axis=-1),\n",
        "                      input_shape=[None]),\n",
        "  tf.keras.layers.SimpleRNN(80, return_sequences=True),\n",
        "  tf.keras.layers.SimpleRNN(80),\n",
        "  tf.keras.layers.Dense(1),\n",
        "  tf.keras.layers.Lambda(lambda x: x * 100.0)\n",
        "])"
      ],
      "execution_count": null,
      "outputs": []
    },
    {
      "cell_type": "code",
      "metadata": {
        "colab": {
          "base_uri": "https://localhost:8080/"
        },
        "id": "fDvbPl7kPyOh",
        "outputId": "f220bc37-0136-48a1-bc71-ca424cd952bd"
      },
      "source": [
        "optimizer = tf.keras.optimizers.SGD(lr=5e-5, momentum=0.9)\n",
        "model.compile(loss=tf.keras.losses.Huber(),\n",
        "              optimizer=optimizer,\n",
        "              metrics=[\"mae\"])\n",
        "history = model.fit(X_train, y_train,epochs=100)"
      ],
      "execution_count": null,
      "outputs": [
        {
          "output_type": "stream",
          "text": [
            "/usr/local/lib/python3.7/dist-packages/tensorflow/python/keras/optimizer_v2/optimizer_v2.py:375: UserWarning: The `lr` argument is deprecated, use `learning_rate` instead.\n",
            "  \"The `lr` argument is deprecated, use `learning_rate` instead.\")\n"
          ],
          "name": "stderr"
        },
        {
          "output_type": "stream",
          "text": [
            "Epoch 1/100\n",
            "38/38 [==============================] - 5s 87ms/step - loss: 23.1105 - mae: 23.6036\n",
            "Epoch 2/100\n",
            "38/38 [==============================] - 3s 83ms/step - loss: 12.3327 - mae: 12.8327\n",
            "Epoch 3/100\n",
            "38/38 [==============================] - 3s 85ms/step - loss: 10.7009 - mae: 11.1969\n",
            "Epoch 4/100\n",
            "38/38 [==============================] - 3s 76ms/step - loss: 4.7519 - mae: 5.2366\n",
            "Epoch 5/100\n",
            "38/38 [==============================] - 3s 78ms/step - loss: 14.6780 - mae: 15.1733\n",
            "Epoch 6/100\n",
            "38/38 [==============================] - 3s 81ms/step - loss: 7.3762 - mae: 7.8661\n",
            "Epoch 7/100\n",
            "38/38 [==============================] - 3s 79ms/step - loss: 13.0943 - mae: 13.5857\n",
            "Epoch 8/100\n",
            "38/38 [==============================] - 3s 79ms/step - loss: 7.3974 - mae: 7.8880\n",
            "Epoch 9/100\n",
            "38/38 [==============================] - 3s 81ms/step - loss: 29.9159 - mae: 30.4130\n",
            "Epoch 10/100\n",
            "38/38 [==============================] - 3s 78ms/step - loss: 36.0073 - mae: 36.5051\n",
            "Epoch 11/100\n",
            "38/38 [==============================] - 3s 80ms/step - loss: 24.3967 - mae: 24.8925\n",
            "Epoch 12/100\n",
            "38/38 [==============================] - 3s 77ms/step - loss: 41.9842 - mae: 42.4818\n",
            "Epoch 13/100\n",
            "38/38 [==============================] - 3s 76ms/step - loss: 36.3526 - mae: 36.8497\n",
            "Epoch 14/100\n",
            "38/38 [==============================] - 3s 78ms/step - loss: 23.4309 - mae: 23.9178\n",
            "Epoch 15/100\n",
            "38/38 [==============================] - 3s 78ms/step - loss: 41.8104 - mae: 42.3087\n",
            "Epoch 16/100\n",
            "38/38 [==============================] - 3s 78ms/step - loss: 27.7937 - mae: 28.2914\n",
            "Epoch 17/100\n",
            "38/38 [==============================] - 3s 83ms/step - loss: 13.1903 - mae: 13.6903\n",
            "Epoch 18/100\n",
            "38/38 [==============================] - 3s 85ms/step - loss: 8.0941 - mae: 8.5939\n",
            "Epoch 19/100\n",
            "38/38 [==============================] - 3s 85ms/step - loss: 3.2371 - mae: 3.7318\n",
            "Epoch 20/100\n",
            "38/38 [==============================] - 3s 82ms/step - loss: 2.8431 - mae: 3.3429\n",
            "Epoch 21/100\n",
            "38/38 [==============================] - 3s 86ms/step - loss: 2.6449 - mae: 3.1447\n",
            "Epoch 22/100\n",
            "38/38 [==============================] - 3s 86ms/step - loss: 2.4815 - mae: 2.9811\n",
            "Epoch 23/100\n",
            "38/38 [==============================] - 3s 84ms/step - loss: 2.3545 - mae: 2.8545\n",
            "Epoch 24/100\n",
            "38/38 [==============================] - 3s 87ms/step - loss: 2.2228 - mae: 2.7227\n",
            "Epoch 25/100\n",
            "38/38 [==============================] - 3s 80ms/step - loss: 2.1550 - mae: 2.6550\n",
            "Epoch 26/100\n",
            "38/38 [==============================] - 3s 79ms/step - loss: 2.0482 - mae: 2.5482\n",
            "Epoch 27/100\n",
            "38/38 [==============================] - 3s 80ms/step - loss: 2.0042 - mae: 2.5042\n",
            "Epoch 28/100\n",
            "38/38 [==============================] - 3s 81ms/step - loss: 1.8759 - mae: 2.3759\n",
            "Epoch 29/100\n",
            "38/38 [==============================] - 3s 77ms/step - loss: 1.7473 - mae: 2.2473\n",
            "Epoch 30/100\n",
            "38/38 [==============================] - 3s 77ms/step - loss: 1.6098 - mae: 2.1098\n",
            "Epoch 31/100\n",
            "38/38 [==============================] - 3s 77ms/step - loss: 1.4961 - mae: 1.9961\n",
            "Epoch 32/100\n",
            "38/38 [==============================] - 3s 78ms/step - loss: 1.4107 - mae: 1.9107\n",
            "Epoch 33/100\n",
            "38/38 [==============================] - 3s 77ms/step - loss: 1.3643 - mae: 1.8642\n",
            "Epoch 34/100\n",
            "38/38 [==============================] - 3s 78ms/step - loss: 1.2973 - mae: 1.7972\n",
            "Epoch 35/100\n",
            "38/38 [==============================] - 3s 79ms/step - loss: 1.2481 - mae: 1.7481\n",
            "Epoch 36/100\n",
            "38/38 [==============================] - 3s 77ms/step - loss: 1.1781 - mae: 1.6780\n",
            "Epoch 37/100\n",
            "38/38 [==============================] - 3s 78ms/step - loss: 1.1399 - mae: 1.6398\n",
            "Epoch 38/100\n",
            "38/38 [==============================] - 3s 78ms/step - loss: 1.0912 - mae: 1.5911\n",
            "Epoch 39/100\n",
            "38/38 [==============================] - 3s 85ms/step - loss: 1.0337 - mae: 1.5336\n",
            "Epoch 40/100\n",
            "38/38 [==============================] - 3s 86ms/step - loss: 0.9759 - mae: 1.4758\n",
            "Epoch 41/100\n",
            "38/38 [==============================] - 3s 84ms/step - loss: 0.9356 - mae: 1.4355\n",
            "Epoch 42/100\n",
            "38/38 [==============================] - 3s 82ms/step - loss: 0.8723 - mae: 1.3721\n",
            "Epoch 43/100\n",
            "38/38 [==============================] - 3s 83ms/step - loss: 0.8166 - mae: 1.3164\n",
            "Epoch 44/100\n",
            "38/38 [==============================] - 3s 85ms/step - loss: 0.7469 - mae: 1.2457\n",
            "Epoch 45/100\n",
            "38/38 [==============================] - 3s 84ms/step - loss: 0.6927 - mae: 1.1891\n",
            "Epoch 46/100\n",
            "38/38 [==============================] - 3s 84ms/step - loss: 0.6702 - mae: 1.1662\n",
            "Epoch 47/100\n",
            "38/38 [==============================] - 3s 80ms/step - loss: 0.6630 - mae: 1.1588\n",
            "Epoch 48/100\n",
            "38/38 [==============================] - 3s 81ms/step - loss: 0.6391 - mae: 1.1360\n",
            "Epoch 49/100\n",
            "38/38 [==============================] - 3s 78ms/step - loss: 0.6048 - mae: 1.1000\n",
            "Epoch 50/100\n",
            "38/38 [==============================] - 3s 78ms/step - loss: 0.3834 - mae: 0.8100\n",
            "Epoch 51/100\n",
            "38/38 [==============================] - 3s 79ms/step - loss: 0.0283 - mae: 0.1835\n",
            "Epoch 52/100\n",
            "38/38 [==============================] - 3s 79ms/step - loss: 0.0029 - mae: 0.0629\n",
            "Epoch 53/100\n",
            "38/38 [==============================] - 3s 80ms/step - loss: 5.5339e-04 - mae: 0.0261\n",
            "Epoch 54/100\n",
            "38/38 [==============================] - 3s 80ms/step - loss: 3.2902e-04 - mae: 0.0190\n",
            "Epoch 55/100\n",
            "38/38 [==============================] - 3s 79ms/step - loss: 2.8940e-04 - mae: 0.0179\n",
            "Epoch 56/100\n",
            "38/38 [==============================] - 3s 77ms/step - loss: 4.2746e-04 - mae: 0.0229\n",
            "Epoch 57/100\n",
            "38/38 [==============================] - 3s 78ms/step - loss: 2.6552e-04 - mae: 0.0165\n",
            "Epoch 58/100\n",
            "38/38 [==============================] - 3s 79ms/step - loss: 6.4398e-04 - mae: 0.0292\n",
            "Epoch 59/100\n",
            "38/38 [==============================] - 3s 78ms/step - loss: 3.2543e-04 - mae: 0.0183\n",
            "Epoch 60/100\n",
            "38/38 [==============================] - 3s 86ms/step - loss: 3.6456e-04 - mae: 0.0203\n",
            "Epoch 61/100\n",
            "38/38 [==============================] - 3s 85ms/step - loss: 3.1485e-04 - mae: 0.0184\n",
            "Epoch 62/100\n",
            "38/38 [==============================] - 3s 86ms/step - loss: 3.0591e-04 - mae: 0.0182\n",
            "Epoch 63/100\n",
            "38/38 [==============================] - 3s 84ms/step - loss: 3.6416e-04 - mae: 0.0208\n",
            "Epoch 64/100\n",
            "38/38 [==============================] - 3s 86ms/step - loss: 3.3966e-04 - mae: 0.0198\n",
            "Epoch 65/100\n",
            "38/38 [==============================] - 3s 84ms/step - loss: 2.9757e-04 - mae: 0.0182\n",
            "Epoch 66/100\n",
            "38/38 [==============================] - 3s 84ms/step - loss: 4.4613e-04 - mae: 0.0235\n",
            "Epoch 67/100\n",
            "38/38 [==============================] - 3s 88ms/step - loss: 3.3453e-04 - mae: 0.0186\n",
            "Epoch 68/100\n",
            "38/38 [==============================] - 3s 79ms/step - loss: 5.5982e-04 - mae: 0.0263\n",
            "Epoch 69/100\n",
            "38/38 [==============================] - 3s 76ms/step - loss: 3.3094e-04 - mae: 0.0191\n",
            "Epoch 70/100\n",
            "38/38 [==============================] - 3s 81ms/step - loss: 3.9442e-04 - mae: 0.0215\n",
            "Epoch 71/100\n",
            "38/38 [==============================] - 3s 86ms/step - loss: 3.3775e-04 - mae: 0.0195\n",
            "Epoch 72/100\n",
            "38/38 [==============================] - 3s 82ms/step - loss: 2.5800e-04 - mae: 0.0164\n",
            "Epoch 73/100\n",
            "38/38 [==============================] - 3s 84ms/step - loss: 5.0299e-04 - mae: 0.0253\n",
            "Epoch 74/100\n",
            "38/38 [==============================] - 3s 85ms/step - loss: 3.3446e-04 - mae: 0.0193\n",
            "Epoch 75/100\n",
            "38/38 [==============================] - 3s 84ms/step - loss: 2.3173e-04 - mae: 0.0152\n",
            "Epoch 76/100\n",
            "38/38 [==============================] - 3s 84ms/step - loss: 2.7400e-04 - mae: 0.0171\n",
            "Epoch 77/100\n",
            "38/38 [==============================] - 3s 86ms/step - loss: 3.1412e-04 - mae: 0.0191\n",
            "Epoch 78/100\n",
            "38/38 [==============================] - 3s 82ms/step - loss: 3.4225e-04 - mae: 0.0198\n",
            "Epoch 79/100\n",
            "38/38 [==============================] - 3s 79ms/step - loss: 3.4131e-04 - mae: 0.0198\n",
            "Epoch 80/100\n",
            "38/38 [==============================] - 3s 81ms/step - loss: 2.5064e-04 - mae: 0.0159\n",
            "Epoch 81/100\n",
            "38/38 [==============================] - 3s 79ms/step - loss: 3.5655e-04 - mae: 0.0205\n",
            "Epoch 82/100\n",
            "38/38 [==============================] - 3s 79ms/step - loss: 3.2950e-04 - mae: 0.0196\n",
            "Epoch 83/100\n",
            "38/38 [==============================] - 3s 78ms/step - loss: 3.0982e-04 - mae: 0.0180\n",
            "Epoch 84/100\n",
            "38/38 [==============================] - 3s 77ms/step - loss: 2.8509e-04 - mae: 0.0176\n",
            "Epoch 85/100\n",
            "38/38 [==============================] - 3s 78ms/step - loss: 2.7539e-04 - mae: 0.0168\n",
            "Epoch 86/100\n",
            "38/38 [==============================] - 3s 77ms/step - loss: 2.8520e-04 - mae: 0.0176\n",
            "Epoch 87/100\n",
            "38/38 [==============================] - 3s 81ms/step - loss: 2.5808e-04 - mae: 0.0163\n",
            "Epoch 88/100\n",
            "38/38 [==============================] - 3s 78ms/step - loss: 2.5303e-04 - mae: 0.0164\n",
            "Epoch 89/100\n",
            "38/38 [==============================] - 3s 76ms/step - loss: 2.5705e-04 - mae: 0.0162\n",
            "Epoch 90/100\n",
            "38/38 [==============================] - 3s 77ms/step - loss: 4.0407e-04 - mae: 0.0223\n",
            "Epoch 91/100\n",
            "38/38 [==============================] - 3s 78ms/step - loss: 2.8021e-04 - mae: 0.0171\n",
            "Epoch 92/100\n",
            "38/38 [==============================] - 3s 86ms/step - loss: 3.7571e-04 - mae: 0.0210\n",
            "Epoch 93/100\n",
            "38/38 [==============================] - 3s 84ms/step - loss: 3.0058e-04 - mae: 0.0179\n",
            "Epoch 94/100\n",
            "38/38 [==============================] - 3s 85ms/step - loss: 3.5462e-04 - mae: 0.0200\n",
            "Epoch 95/100\n",
            "38/38 [==============================] - 3s 82ms/step - loss: 5.3093e-04 - mae: 0.0259\n",
            "Epoch 96/100\n",
            "38/38 [==============================] - 3s 85ms/step - loss: 7.8662e-04 - mae: 0.0333\n",
            "Epoch 97/100\n",
            "38/38 [==============================] - 3s 85ms/step - loss: 6.1523e-04 - mae: 0.0281\n",
            "Epoch 98/100\n",
            "38/38 [==============================] - 3s 85ms/step - loss: 5.4661e-04 - mae: 0.0269\n",
            "Epoch 99/100\n",
            "38/38 [==============================] - 3s 86ms/step - loss: 2.5286e-04 - mae: 0.0164\n",
            "Epoch 100/100\n",
            "38/38 [==============================] - 3s 79ms/step - loss: 2.7922e-04 - mae: 0.0175\n"
          ],
          "name": "stdout"
        }
      ]
    },
    {
      "cell_type": "code",
      "metadata": {
        "id": "UEDknVafV4yl"
      },
      "source": [
        "dataset_test = pd.read_csv('/content/drive/MyDrive/timeseriesmachinelearning/realstudies/realstudies1/Google_Stock_Price_Test.csv')\n",
        "real_stock_price = dataset_test.iloc[:, 1:2].values"
      ],
      "execution_count": null,
      "outputs": []
    },
    {
      "cell_type": "markdown",
      "metadata": {
        "id": "dlDkGsYBWJq6"
      },
      "source": [
        "Getting prediction in 2017"
      ]
    },
    {
      "cell_type": "code",
      "metadata": {
        "id": "GSe-7qwUWG4K"
      },
      "source": [
        "dataset_total = pd.concat((dataset_train['Open'], dataset_test['Open']), axis = 0)\n",
        "inputs = dataset_total[len(dataset_total) - len(dataset_test) - 60:].values\n",
        "inputs = inputs.reshape(-1,1)\n",
        "inputs = sc.transform(inputs)\n",
        "X_test = []\n",
        "for i in range(60, 80):\n",
        "    X_test.append(inputs[i-60:i, 0])\n",
        "X_test = np.array(X_test)\n",
        "X_test = np.reshape(X_test, (X_test.shape[0], X_test.shape[1], 1))\n",
        "predicted_stock_price = model.predict(X_test)\n",
        "predicted_stock_price = sc.inverse_transform(predicted_stock_price)"
      ],
      "execution_count": null,
      "outputs": []
    },
    {
      "cell_type": "markdown",
      "metadata": {
        "id": "Ql0B-NMLWUd0"
      },
      "source": [
        "\n",
        "The final step is to visualize our data results using the matplotlib library."
      ]
    },
    {
      "cell_type": "code",
      "metadata": {
        "colab": {
          "base_uri": "https://localhost:8080/",
          "height": 295
        },
        "id": "tMvwCxIDWR7k",
        "outputId": "1dcb32cf-491a-4d3b-c19a-177c65197e96"
      },
      "source": [
        "plt.plot(real_stock_price, color = 'red', label = 'Real Google Stock Price')\n",
        "plt.plot(predicted_stock_price, color = 'blue', label = 'Predicted Google Stock Price')\n",
        "plt.title('Google Stock Price Prediction')\n",
        "plt.xlabel('Time')\n",
        "plt.ylabel('Google Stock Price')\n",
        "plt.legend()\n",
        "plt.show()"
      ],
      "execution_count": null,
      "outputs": [
        {
          "output_type": "display_data",
          "data": {
            "image/png": "[encoded data removed]",
            "text/plain": [
              "<Figure size 432x288 with 1 Axes>"
            ]
          },
          "metadata": {
            "tags": [],
            "needs_background": "light"
          }
        }
      ]
    },
    {
      "cell_type": "markdown",
      "metadata": {
        "id": "aosM3iDqb5AH"
      },
      "source": [
        "Evaluation metrice"
      ]
    },
    {
      "cell_type": "code",
      "metadata": {
        "colab": {
          "base_uri": "https://localhost:8080/"
        },
        "id": "IpCmlX9gb6rd",
        "outputId": "98e9b561-107a-44ba-c673-174512e2ceec"
      },
      "source": [
        "tf.keras.metrics.mean_absolute_error(predicted_stock_price, real_stock_price).numpy()"
      ],
      "execution_count": null,
      "outputs": [
        {
          "output_type": "execute_result",
          "data": {
            "text/plain": [
              "array([ 8.77776855,  3.12159668,  1.45527832,  6.12700439, 14.05893555,\n",
              "        8.28285156,  0.09960938,  2.24968018,  1.89595459,  0.16536133,\n",
              "        2.10821289,  2.63561523,  0.38907227,  0.84686279, 13.37086182,\n",
              "       14.25421631, 13.57885986,  3.4153833 , 19.09256348, 29.0941626 ])"
            ]
          },
          "metadata": {
            "tags": []
          },
          "execution_count": 15
        }
      ]
    },
    {
      "cell_type": "code",
      "metadata": {
        "colab": {
          "base_uri": "https://localhost:8080/"
        },
        "id": "khghzehRfgv4",
        "outputId": "d9c743e0-a294-424c-9820-a7443c0a2658"
      },
      "source": [
        "# calculate MAE \n",
        "from sklearn.metrics import mean_squared_error, mean_absolute_error\n",
        "mae = mean_absolute_error(predicted_stock_price, real_stock_price)\n",
        "print(' mean_absolute_error: %.6f' % mae)"
      ],
      "execution_count": null,
      "outputs": [
        {
          "output_type": "stream",
          "text": [
            " mean_absolute_error: 7.250993\n"
          ],
          "name": "stdout"
        }
      ]
    },
    {
      "cell_type": "markdown",
      "metadata": {
        "id": "0FSKYbvolmlq"
      },
      "source": [
        "**More works will be done for improving the model including adapting the LSTM model.**Thank you! \n"
      ]
    }
  ]
}